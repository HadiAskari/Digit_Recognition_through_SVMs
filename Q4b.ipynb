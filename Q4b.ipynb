{
 "cells": [
  {
   "cell_type": "code",
   "execution_count": 8,
   "metadata": {},
   "outputs": [],
   "source": [
    "import numpy as np \n",
    "import matplotlib\n",
    "import matplotlib.pyplot as plt\n",
    "import random\n",
    "import time\n",
    "import cvxpy as cp\n",
    "import pandas as pd\n",
    "from sklearn.model_selection import train_test_split\n",
    "import collections"
   ]
  },
  {
   "cell_type": "code",
   "execution_count": 9,
   "metadata": {},
   "outputs": [
    {
     "name": "stderr",
     "output_type": "stream",
     "text": [
      "/tmp/ipykernel_384440/1232886161.py:11: SettingWithCopyWarning: \n",
      "A value is trying to be set on a copy of a slice from a DataFrame\n",
      "\n",
      "See the caveats in the documentation: https://pandas.pydata.org/pandas-docs/stable/user_guide/indexing.html#returning-a-view-versus-a-copy\n",
      "  ONLY_LABELS.loc[ONLY_LABELS['Digit'] == 7, 'Digit'] = -1\n",
      "/tmp/ipykernel_384440/1232886161.py:25: SettingWithCopyWarning: \n",
      "A value is trying to be set on a copy of a slice from a DataFrame\n",
      "\n",
      "See the caveats in the documentation: https://pandas.pydata.org/pandas-docs/stable/user_guide/indexing.html#returning-a-view-versus-a-copy\n",
      "  ONLY_LABELS_TEST.loc[ONLY_LABELS_TEST['Digit'] == 7, 'Digit'] = -1\n"
     ]
    }
   ],
   "source": [
    "TRAIN_DATA = pd.read_csv('transfer_train-1.csv')\n",
    "TEST_DATA=pd.read_csv('transfer_test-1.csv')\n",
    "\n",
    "TRAIN_DATA_W_LABELS = TRAIN_DATA[(TRAIN_DATA['Digit']==1) | (TRAIN_DATA['Digit']==7)]\n",
    "\n",
    "D = 8 \n",
    "\n",
    "ONLY_LABELS = TRAIN_DATA_W_LABELS[['Digit']]\n",
    "\n",
    "\n",
    "ONLY_LABELS.loc[ONLY_LABELS['Digit'] == 7, 'Digit'] = -1\n",
    "\n",
    "\n",
    "TRAIN_DATA_NO_LABEL = TRAIN_DATA_W_LABELS.drop('Digit', axis=1)\n",
    "\n",
    "Train_data_normalized=TRAIN_DATA_NO_LABEL.copy()\n",
    "\n",
    "for column in Train_data_normalized.columns:\n",
    "    Train_data_normalized[column] = (Train_data_normalized[column] - Train_data_normalized[column].min()) / (Train_data_normalized[column].max() - Train_data_normalized[column].min()) \n",
    "\n",
    "TEST_DATA_W_LABELS = TEST_DATA[(TEST_DATA['Digit']==1) | (TEST_DATA['Digit']==7)]\n",
    "\n",
    "ONLY_LABELS_TEST = TEST_DATA_W_LABELS[['Digit']]\n",
    "\n",
    "ONLY_LABELS_TEST.loc[ONLY_LABELS_TEST['Digit'] == 7, 'Digit'] = -1\n",
    "\n",
    "TEST_DATA_NO_LABEL = TEST_DATA_W_LABELS.drop('Digit', axis=1)\n",
    "\n",
    "Test_data_normalized=TEST_DATA_NO_LABEL.copy()\n",
    "\n",
    "for column in Test_data_normalized.columns:\n",
    "    Test_data_normalized[column] = (Test_data_normalized[column] - Test_data_normalized[column].min()) / (Test_data_normalized[column].max() - Test_data_normalized[column].min())  "
   ]
  },
  {
   "cell_type": "code",
   "execution_count": 10,
   "metadata": {},
   "outputs": [
    {
     "name": "stdout",
     "output_type": "stream",
     "text": [
      "[[0.58461538 0.68627451 1.         1.         0.86206897 0.75\n",
      "  0.86170213 0.68493151]\n",
      " [0.2        0.56862745 0.13235294 0.36       0.09195402 0.\n",
      "  0.         0.04109589]\n",
      " [0.10769231 0.66666667 0.69117647 1.         1.         0.98\n",
      "  0.86170213 0.90410959]\n",
      " [0.70769231 1.         1.         0.95       0.7816092  0.7\n",
      "  0.60638298 0.61643836]\n",
      " [0.2        0.         0.64705882 0.73       1.         1.\n",
      "  1.         1.        ]\n",
      " [0.84615385 0.80392157 0.85294118 0.48       0.72413793 0.06\n",
      "  0.58510638 0.        ]\n",
      " [1.         0.58823529 0.75       0.44       0.62068966 0.08\n",
      "  0.4787234  0.        ]\n",
      " [0.46153846 1.         1.         1.         0.6091954  0.76\n",
      "  0.5        0.67123288]\n",
      " [0.13846154 0.19607843 0.10294118 0.2        0.18390805 0.\n",
      "  0.         0.42465753]\n",
      " [0.         0.03921569 0.         0.         0.         0.13\n",
      "  0.23404255 0.43835616]]\n",
      "(10, 8)\n",
      "(10, 1)\n"
     ]
    }
   ],
   "source": [
    "X_train_np=Train_data_normalized.to_numpy()\n",
    "print(X_train_np)\n",
    "print(X_train_np.shape)\n",
    "y_train_np=ONLY_LABELS.to_numpy()\n",
    "print(y_train_np.shape)\n",
    "X_test=Test_data_normalized.to_numpy()\n",
    "y_test=ONLY_LABELS_TEST.to_numpy()"
   ]
  },
  {
   "cell_type": "code",
   "execution_count": 11,
   "metadata": {},
   "outputs": [
    {
     "name": "stdout",
     "output_type": "stream",
     "text": [
      "10\n"
     ]
    }
   ],
   "source": [
    "train_data_qty = len(X_train_np)\n",
    "print(train_data_qty)"
   ]
  },
  {
   "cell_type": "code",
   "execution_count": 14,
   "metadata": {},
   "outputs": [
    {
     "name": "stdout",
     "output_type": "stream",
     "text": [
      "status: optimal\n",
      "optimal value 11.841898979688638\n",
      "optimal var w = [[-0.4870198 ]\n",
      " [ 0.06900336]\n",
      " [-0.89219711]\n",
      " [ 1.09496165]\n",
      " [ 0.48455474]\n",
      " [ 0.64941973]\n",
      " [ 0.34298911]\n",
      " [-0.24788309]], b = -0.6044829714703345\n"
     ]
    }
   ],
   "source": [
    "C = 2\n",
    "\n",
    "w_source = np.array([[0.00330738], [0.0311968], [ 0.02214532], [ 0.01202985], [ 0.00929693], [-0.02798008], [-0.02736712], [ 0.01508687]])\n",
    "\n",
    "w = cp.Variable((D, 1))\n",
    "\n",
    "b = cp.Variable()\n",
    "\n",
    "epsilon = cp.Variable((train_data_qty, 1))\n",
    "\n",
    "objective = cp.Minimize(cp.sum(cp.square(w))*0.5 + cp.sum(cp.square(epsilon)*C))\n",
    "\n",
    "constraints = [cp.multiply(y_train_np, (X_train_np @ (w + w_source) + b)) >= 1 - epsilon,  epsilon >= 0]\n",
    "\n",
    "prob = cp.Problem(objective, constraints)\n",
    "prob.solve()\n",
    "print(\"status:\", prob.status)\n",
    "print(\"optimal value\", prob.value)\n",
    "print(\"optimal var w = {}, b = {}\".format(w.value, b.value))"
   ]
  },
  {
   "cell_type": "code",
   "execution_count": 15,
   "metadata": {},
   "outputs": [
    {
     "name": "stdout",
     "output_type": "stream",
     "text": [
      "Accuracy = 76.92307692307693 %\n"
     ]
    }
   ],
   "source": [
    "eps = 1e-2 # select support vectors\n",
    "random.seed(1) # For reproducibility\n",
    "\n",
    "sup = y_train_np*(X_train_np.dot(w.value + w_source)+b.value)-1 \n",
    "\n",
    "\n",
    "sup_v1 = ((-eps<sup) & (sup<eps)).flatten()\n",
    "\n",
    "collections.Counter(sup_v1)\n",
    "\n",
    "Xt = X_test\n",
    "\n",
    "#Xt.shape\n",
    "\n",
    "yt = y_test\n",
    "\n",
    "#yt.shape\n",
    "\n",
    "predictions = Xt.dot(w.value + w_source) + b.value\n",
    "\n",
    "predictions[predictions<0] = -1\n",
    "\n",
    "predictions[predictions>=0] = 1\n",
    "\n",
    "count_wrong_predictions = 0\n",
    "for i in range(len(predictions)):\n",
    "    if (yt[i] != predictions[i]):\n",
    "        count_wrong_predictions+=1\n",
    "        \n",
    "#count_wrong_predictions\n",
    "\n",
    "correct_predictions = (len(predictions) - count_wrong_predictions)\n",
    "#correct_predictions\n",
    "\n",
    "accuracy = correct_predictions/len(predictions)\n",
    "\n",
    "print(\"Accuracy =\",accuracy*100,\"%\")"
   ]
  }
 ],
 "metadata": {
  "interpreter": {
   "hash": "f04cd1d06886cd651a83ba08a3456fa4c7154b53c382870142b18df9f99f9329"
  },
  "kernelspec": {
   "display_name": "Python 3.9.0 ('ML')",
   "language": "python",
   "name": "python3"
  },
  "language_info": {
   "codemirror_mode": {
    "name": "ipython",
    "version": 3
   },
   "file_extension": ".py",
   "mimetype": "text/x-python",
   "name": "python",
   "nbconvert_exporter": "python",
   "pygments_lexer": "ipython3",
   "version": "3.9.0"
  },
  "orig_nbformat": 4
 },
 "nbformat": 4,
 "nbformat_minor": 2
}
