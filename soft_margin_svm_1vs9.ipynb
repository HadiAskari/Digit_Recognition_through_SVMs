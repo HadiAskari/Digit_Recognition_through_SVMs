{
 "cells": [
  {
   "cell_type": "code",
   "execution_count": 1,
   "metadata": {},
   "outputs": [
    {
     "name": "stderr",
     "output_type": "stream",
     "text": [
      "/home/haskari/.conda/envs/ML/lib/python3.9/site-packages/sklearn/utils/multiclass.py:13: DeprecationWarning: Please use `spmatrix` from the `scipy.sparse` namespace, the `scipy.sparse.base` namespace is deprecated.\n",
      "  from scipy.sparse.base import spmatrix\n"
     ]
    }
   ],
   "source": [
    "import numpy as np \n",
    "import matplotlib\n",
    "import matplotlib.pyplot as plt\n",
    "import random\n",
    "import time\n",
    "import cvxpy as cp\n",
    "import pandas as pd\n",
    "from sklearn.model_selection import train_test_split"
   ]
  },
  {
   "cell_type": "code",
   "execution_count": 118,
   "metadata": {},
   "outputs": [],
   "source": [
    "TRAIN_DATA = pd.read_csv('studentspen-train.csv')"
   ]
  },
  {
   "cell_type": "code",
   "execution_count": 119,
   "metadata": {},
   "outputs": [
    {
     "data": {
      "text/html": [
       "<div>\n",
       "<style scoped>\n",
       "    .dataframe tbody tr th:only-of-type {\n",
       "        vertical-align: middle;\n",
       "    }\n",
       "\n",
       "    .dataframe tbody tr th {\n",
       "        vertical-align: top;\n",
       "    }\n",
       "\n",
       "    .dataframe thead th {\n",
       "        text-align: right;\n",
       "    }\n",
       "</style>\n",
       "<table border=\"1\" class=\"dataframe\">\n",
       "  <thead>\n",
       "    <tr style=\"text-align: right;\">\n",
       "      <th></th>\n",
       "      <th>x3</th>\n",
       "      <th>y3</th>\n",
       "      <th>x4</th>\n",
       "      <th>y4</th>\n",
       "      <th>x5</th>\n",
       "      <th>y5</th>\n",
       "      <th>x6</th>\n",
       "      <th>y6</th>\n",
       "      <th>Digit</th>\n",
       "    </tr>\n",
       "  </thead>\n",
       "  <tbody>\n",
       "    <tr>\n",
       "      <th>0</th>\n",
       "      <td>10</td>\n",
       "      <td>75</td>\n",
       "      <td>0</td>\n",
       "      <td>24</td>\n",
       "      <td>48</td>\n",
       "      <td>0</td>\n",
       "      <td>100</td>\n",
       "      <td>19</td>\n",
       "      <td>0</td>\n",
       "    </tr>\n",
       "    <tr>\n",
       "      <th>1</th>\n",
       "      <td>16</td>\n",
       "      <td>69</td>\n",
       "      <td>0</td>\n",
       "      <td>27</td>\n",
       "      <td>40</td>\n",
       "      <td>0</td>\n",
       "      <td>93</td>\n",
       "      <td>15</td>\n",
       "      <td>0</td>\n",
       "    </tr>\n",
       "    <tr>\n",
       "      <th>2</th>\n",
       "      <td>11</td>\n",
       "      <td>5</td>\n",
       "      <td>63</td>\n",
       "      <td>0</td>\n",
       "      <td>100</td>\n",
       "      <td>43</td>\n",
       "      <td>89</td>\n",
       "      <td>99</td>\n",
       "      <td>0</td>\n",
       "    </tr>\n",
       "    <tr>\n",
       "      <th>3</th>\n",
       "      <td>47</td>\n",
       "      <td>0</td>\n",
       "      <td>86</td>\n",
       "      <td>25</td>\n",
       "      <td>100</td>\n",
       "      <td>66</td>\n",
       "      <td>76</td>\n",
       "      <td>100</td>\n",
       "      <td>0</td>\n",
       "    </tr>\n",
       "    <tr>\n",
       "      <th>4</th>\n",
       "      <td>57</td>\n",
       "      <td>0</td>\n",
       "      <td>100</td>\n",
       "      <td>22</td>\n",
       "      <td>95</td>\n",
       "      <td>75</td>\n",
       "      <td>54</td>\n",
       "      <td>100</td>\n",
       "      <td>0</td>\n",
       "    </tr>\n",
       "    <tr>\n",
       "      <th>...</th>\n",
       "      <td>...</td>\n",
       "      <td>...</td>\n",
       "      <td>...</td>\n",
       "      <td>...</td>\n",
       "      <td>...</td>\n",
       "      <td>...</td>\n",
       "      <td>...</td>\n",
       "      <td>...</td>\n",
       "      <td>...</td>\n",
       "    </tr>\n",
       "    <tr>\n",
       "      <th>3742</th>\n",
       "      <td>0</td>\n",
       "      <td>92</td>\n",
       "      <td>23</td>\n",
       "      <td>66</td>\n",
       "      <td>90</td>\n",
       "      <td>74</td>\n",
       "      <td>100</td>\n",
       "      <td>53</td>\n",
       "      <td>9</td>\n",
       "    </tr>\n",
       "    <tr>\n",
       "      <th>3743</th>\n",
       "      <td>43</td>\n",
       "      <td>65</td>\n",
       "      <td>100</td>\n",
       "      <td>84</td>\n",
       "      <td>95</td>\n",
       "      <td>79</td>\n",
       "      <td>92</td>\n",
       "      <td>38</td>\n",
       "      <td>9</td>\n",
       "    </tr>\n",
       "    <tr>\n",
       "      <th>3744</th>\n",
       "      <td>25</td>\n",
       "      <td>76</td>\n",
       "      <td>79</td>\n",
       "      <td>68</td>\n",
       "      <td>100</td>\n",
       "      <td>62</td>\n",
       "      <td>97</td>\n",
       "      <td>23</td>\n",
       "      <td>9</td>\n",
       "    </tr>\n",
       "    <tr>\n",
       "      <th>3745</th>\n",
       "      <td>45</td>\n",
       "      <td>90</td>\n",
       "      <td>44</td>\n",
       "      <td>65</td>\n",
       "      <td>100</td>\n",
       "      <td>66</td>\n",
       "      <td>92</td>\n",
       "      <td>35</td>\n",
       "      <td>9</td>\n",
       "    </tr>\n",
       "    <tr>\n",
       "      <th>3746</th>\n",
       "      <td>0</td>\n",
       "      <td>85</td>\n",
       "      <td>13</td>\n",
       "      <td>56</td>\n",
       "      <td>84</td>\n",
       "      <td>67</td>\n",
       "      <td>100</td>\n",
       "      <td>68</td>\n",
       "      <td>9</td>\n",
       "    </tr>\n",
       "  </tbody>\n",
       "</table>\n",
       "<p>3747 rows × 9 columns</p>\n",
       "</div>"
      ],
      "text/plain": [
       "      x3  y3   x4  y4   x5  y5   x6   y6  Digit\n",
       "0     10  75    0  24   48   0  100   19      0\n",
       "1     16  69    0  27   40   0   93   15      0\n",
       "2     11   5   63   0  100  43   89   99      0\n",
       "3     47   0   86  25  100  66   76  100      0\n",
       "4     57   0  100  22   95  75   54  100      0\n",
       "...   ..  ..  ...  ..  ...  ..  ...  ...    ...\n",
       "3742   0  92   23  66   90  74  100   53      9\n",
       "3743  43  65  100  84   95  79   92   38      9\n",
       "3744  25  76   79  68  100  62   97   23      9\n",
       "3745  45  90   44  65  100  66   92   35      9\n",
       "3746   0  85   13  56   84  67  100   68      9\n",
       "\n",
       "[3747 rows x 9 columns]"
      ]
     },
     "execution_count": 119,
     "metadata": {},
     "output_type": "execute_result"
    }
   ],
   "source": [
    "TRAIN_DATA"
   ]
  },
  {
   "cell_type": "code",
   "execution_count": 120,
   "metadata": {},
   "outputs": [],
   "source": [
    "TRAIN_DATA_W_LABELS = TRAIN_DATA[(TRAIN_DATA['Digit']==1) | (TRAIN_DATA['Digit']==9)]"
   ]
  },
  {
   "cell_type": "code",
   "execution_count": 121,
   "metadata": {},
   "outputs": [
    {
     "data": {
      "text/html": [
       "<div>\n",
       "<style scoped>\n",
       "    .dataframe tbody tr th:only-of-type {\n",
       "        vertical-align: middle;\n",
       "    }\n",
       "\n",
       "    .dataframe tbody tr th {\n",
       "        vertical-align: top;\n",
       "    }\n",
       "\n",
       "    .dataframe thead th {\n",
       "        text-align: right;\n",
       "    }\n",
       "</style>\n",
       "<table border=\"1\" class=\"dataframe\">\n",
       "  <thead>\n",
       "    <tr style=\"text-align: right;\">\n",
       "      <th></th>\n",
       "      <th>x3</th>\n",
       "      <th>y3</th>\n",
       "      <th>x4</th>\n",
       "      <th>y4</th>\n",
       "      <th>x5</th>\n",
       "      <th>y5</th>\n",
       "      <th>x6</th>\n",
       "      <th>y6</th>\n",
       "      <th>Digit</th>\n",
       "    </tr>\n",
       "  </thead>\n",
       "  <tbody>\n",
       "    <tr>\n",
       "      <th>384</th>\n",
       "      <td>0</td>\n",
       "      <td>88</td>\n",
       "      <td>8</td>\n",
       "      <td>70</td>\n",
       "      <td>15</td>\n",
       "      <td>53</td>\n",
       "      <td>15</td>\n",
       "      <td>35</td>\n",
       "      <td>1</td>\n",
       "    </tr>\n",
       "    <tr>\n",
       "      <th>385</th>\n",
       "      <td>75</td>\n",
       "      <td>71</td>\n",
       "      <td>58</td>\n",
       "      <td>57</td>\n",
       "      <td>58</td>\n",
       "      <td>42</td>\n",
       "      <td>33</td>\n",
       "      <td>28</td>\n",
       "      <td>1</td>\n",
       "    </tr>\n",
       "    <tr>\n",
       "      <th>386</th>\n",
       "      <td>0</td>\n",
       "      <td>85</td>\n",
       "      <td>0</td>\n",
       "      <td>68</td>\n",
       "      <td>13</td>\n",
       "      <td>51</td>\n",
       "      <td>20</td>\n",
       "      <td>34</td>\n",
       "      <td>1</td>\n",
       "    </tr>\n",
       "    <tr>\n",
       "      <th>387</th>\n",
       "      <td>80</td>\n",
       "      <td>76</td>\n",
       "      <td>65</td>\n",
       "      <td>61</td>\n",
       "      <td>50</td>\n",
       "      <td>45</td>\n",
       "      <td>40</td>\n",
       "      <td>30</td>\n",
       "      <td>1</td>\n",
       "    </tr>\n",
       "    <tr>\n",
       "      <th>388</th>\n",
       "      <td>57</td>\n",
       "      <td>75</td>\n",
       "      <td>36</td>\n",
       "      <td>60</td>\n",
       "      <td>14</td>\n",
       "      <td>44</td>\n",
       "      <td>0</td>\n",
       "      <td>29</td>\n",
       "      <td>1</td>\n",
       "    </tr>\n",
       "    <tr>\n",
       "      <th>...</th>\n",
       "      <td>...</td>\n",
       "      <td>...</td>\n",
       "      <td>...</td>\n",
       "      <td>...</td>\n",
       "      <td>...</td>\n",
       "      <td>...</td>\n",
       "      <td>...</td>\n",
       "      <td>...</td>\n",
       "      <td>...</td>\n",
       "    </tr>\n",
       "    <tr>\n",
       "      <th>3742</th>\n",
       "      <td>0</td>\n",
       "      <td>92</td>\n",
       "      <td>23</td>\n",
       "      <td>66</td>\n",
       "      <td>90</td>\n",
       "      <td>74</td>\n",
       "      <td>100</td>\n",
       "      <td>53</td>\n",
       "      <td>9</td>\n",
       "    </tr>\n",
       "    <tr>\n",
       "      <th>3743</th>\n",
       "      <td>43</td>\n",
       "      <td>65</td>\n",
       "      <td>100</td>\n",
       "      <td>84</td>\n",
       "      <td>95</td>\n",
       "      <td>79</td>\n",
       "      <td>92</td>\n",
       "      <td>38</td>\n",
       "      <td>9</td>\n",
       "    </tr>\n",
       "    <tr>\n",
       "      <th>3744</th>\n",
       "      <td>25</td>\n",
       "      <td>76</td>\n",
       "      <td>79</td>\n",
       "      <td>68</td>\n",
       "      <td>100</td>\n",
       "      <td>62</td>\n",
       "      <td>97</td>\n",
       "      <td>23</td>\n",
       "      <td>9</td>\n",
       "    </tr>\n",
       "    <tr>\n",
       "      <th>3745</th>\n",
       "      <td>45</td>\n",
       "      <td>90</td>\n",
       "      <td>44</td>\n",
       "      <td>65</td>\n",
       "      <td>100</td>\n",
       "      <td>66</td>\n",
       "      <td>92</td>\n",
       "      <td>35</td>\n",
       "      <td>9</td>\n",
       "    </tr>\n",
       "    <tr>\n",
       "      <th>3746</th>\n",
       "      <td>0</td>\n",
       "      <td>85</td>\n",
       "      <td>13</td>\n",
       "      <td>56</td>\n",
       "      <td>84</td>\n",
       "      <td>67</td>\n",
       "      <td>100</td>\n",
       "      <td>68</td>\n",
       "      <td>9</td>\n",
       "    </tr>\n",
       "  </tbody>\n",
       "</table>\n",
       "<p>747 rows × 9 columns</p>\n",
       "</div>"
      ],
      "text/plain": [
       "      x3  y3   x4  y4   x5  y5   x6  y6  Digit\n",
       "384    0  88    8  70   15  53   15  35      1\n",
       "385   75  71   58  57   58  42   33  28      1\n",
       "386    0  85    0  68   13  51   20  34      1\n",
       "387   80  76   65  61   50  45   40  30      1\n",
       "388   57  75   36  60   14  44    0  29      1\n",
       "...   ..  ..  ...  ..  ...  ..  ...  ..    ...\n",
       "3742   0  92   23  66   90  74  100  53      9\n",
       "3743  43  65  100  84   95  79   92  38      9\n",
       "3744  25  76   79  68  100  62   97  23      9\n",
       "3745  45  90   44  65  100  66   92  35      9\n",
       "3746   0  85   13  56   84  67  100  68      9\n",
       "\n",
       "[747 rows x 9 columns]"
      ]
     },
     "execution_count": 121,
     "metadata": {},
     "output_type": "execute_result"
    }
   ],
   "source": [
    "TRAIN_DATA_W_LABELS"
   ]
  },
  {
   "cell_type": "code",
   "execution_count": 6,
   "metadata": {},
   "outputs": [],
   "source": [
    "D = 8 # feature dimension"
   ]
  },
  {
   "cell_type": "code",
   "execution_count": 84,
   "metadata": {},
   "outputs": [
    {
     "data": {
      "text/html": [
       "<div>\n",
       "<style scoped>\n",
       "    .dataframe tbody tr th:only-of-type {\n",
       "        vertical-align: middle;\n",
       "    }\n",
       "\n",
       "    .dataframe tbody tr th {\n",
       "        vertical-align: top;\n",
       "    }\n",
       "\n",
       "    .dataframe thead th {\n",
       "        text-align: right;\n",
       "    }\n",
       "</style>\n",
       "<table border=\"1\" class=\"dataframe\">\n",
       "  <thead>\n",
       "    <tr style=\"text-align: right;\">\n",
       "      <th></th>\n",
       "      <th>Digit</th>\n",
       "    </tr>\n",
       "  </thead>\n",
       "  <tbody>\n",
       "    <tr>\n",
       "      <th>384</th>\n",
       "      <td>1</td>\n",
       "    </tr>\n",
       "    <tr>\n",
       "      <th>385</th>\n",
       "      <td>1</td>\n",
       "    </tr>\n",
       "    <tr>\n",
       "      <th>386</th>\n",
       "      <td>1</td>\n",
       "    </tr>\n",
       "    <tr>\n",
       "      <th>387</th>\n",
       "      <td>1</td>\n",
       "    </tr>\n",
       "    <tr>\n",
       "      <th>388</th>\n",
       "      <td>1</td>\n",
       "    </tr>\n",
       "    <tr>\n",
       "      <th>...</th>\n",
       "      <td>...</td>\n",
       "    </tr>\n",
       "    <tr>\n",
       "      <th>3742</th>\n",
       "      <td>9</td>\n",
       "    </tr>\n",
       "    <tr>\n",
       "      <th>3743</th>\n",
       "      <td>9</td>\n",
       "    </tr>\n",
       "    <tr>\n",
       "      <th>3744</th>\n",
       "      <td>9</td>\n",
       "    </tr>\n",
       "    <tr>\n",
       "      <th>3745</th>\n",
       "      <td>9</td>\n",
       "    </tr>\n",
       "    <tr>\n",
       "      <th>3746</th>\n",
       "      <td>9</td>\n",
       "    </tr>\n",
       "  </tbody>\n",
       "</table>\n",
       "<p>747 rows × 1 columns</p>\n",
       "</div>"
      ],
      "text/plain": [
       "      Digit\n",
       "384       1\n",
       "385       1\n",
       "386       1\n",
       "387       1\n",
       "388       1\n",
       "...     ...\n",
       "3742      9\n",
       "3743      9\n",
       "3744      9\n",
       "3745      9\n",
       "3746      9\n",
       "\n",
       "[747 rows x 1 columns]"
      ]
     },
     "execution_count": 84,
     "metadata": {},
     "output_type": "execute_result"
    }
   ],
   "source": [
    "ONLY_LABELS = TRAIN_DATA_W_LABELS[['Digit']]\n",
    "ONLY_LABELS"
   ]
  },
  {
   "cell_type": "code",
   "execution_count": 8,
   "metadata": {},
   "outputs": [
    {
     "name": "stderr",
     "output_type": "stream",
     "text": [
      "/tmp/ipykernel_832056/1048461531.py:1: SettingWithCopyWarning: \n",
      "A value is trying to be set on a copy of a slice from a DataFrame\n",
      "\n",
      "See the caveats in the documentation: https://pandas.pydata.org/pandas-docs/stable/user_guide/indexing.html#returning-a-view-versus-a-copy\n",
      "  ONLY_LABELS.loc[ONLY_LABELS['Digit'] == 9, 'Digit'] = -1\n"
     ]
    },
    {
     "data": {
      "text/html": [
       "<div>\n",
       "<style scoped>\n",
       "    .dataframe tbody tr th:only-of-type {\n",
       "        vertical-align: middle;\n",
       "    }\n",
       "\n",
       "    .dataframe tbody tr th {\n",
       "        vertical-align: top;\n",
       "    }\n",
       "\n",
       "    .dataframe thead th {\n",
       "        text-align: right;\n",
       "    }\n",
       "</style>\n",
       "<table border=\"1\" class=\"dataframe\">\n",
       "  <thead>\n",
       "    <tr style=\"text-align: right;\">\n",
       "      <th></th>\n",
       "      <th>Digit</th>\n",
       "    </tr>\n",
       "  </thead>\n",
       "  <tbody>\n",
       "    <tr>\n",
       "      <th>384</th>\n",
       "      <td>1</td>\n",
       "    </tr>\n",
       "    <tr>\n",
       "      <th>385</th>\n",
       "      <td>1</td>\n",
       "    </tr>\n",
       "    <tr>\n",
       "      <th>386</th>\n",
       "      <td>1</td>\n",
       "    </tr>\n",
       "    <tr>\n",
       "      <th>387</th>\n",
       "      <td>1</td>\n",
       "    </tr>\n",
       "    <tr>\n",
       "      <th>388</th>\n",
       "      <td>1</td>\n",
       "    </tr>\n",
       "    <tr>\n",
       "      <th>...</th>\n",
       "      <td>...</td>\n",
       "    </tr>\n",
       "    <tr>\n",
       "      <th>3742</th>\n",
       "      <td>-1</td>\n",
       "    </tr>\n",
       "    <tr>\n",
       "      <th>3743</th>\n",
       "      <td>-1</td>\n",
       "    </tr>\n",
       "    <tr>\n",
       "      <th>3744</th>\n",
       "      <td>-1</td>\n",
       "    </tr>\n",
       "    <tr>\n",
       "      <th>3745</th>\n",
       "      <td>-1</td>\n",
       "    </tr>\n",
       "    <tr>\n",
       "      <th>3746</th>\n",
       "      <td>-1</td>\n",
       "    </tr>\n",
       "  </tbody>\n",
       "</table>\n",
       "<p>747 rows × 1 columns</p>\n",
       "</div>"
      ],
      "text/plain": [
       "      Digit\n",
       "384       1\n",
       "385       1\n",
       "386       1\n",
       "387       1\n",
       "388       1\n",
       "...     ...\n",
       "3742     -1\n",
       "3743     -1\n",
       "3744     -1\n",
       "3745     -1\n",
       "3746     -1\n",
       "\n",
       "[747 rows x 1 columns]"
      ]
     },
     "execution_count": 8,
     "metadata": {},
     "output_type": "execute_result"
    }
   ],
   "source": [
    "ONLY_LABELS.loc[ONLY_LABELS['Digit'] == 9, 'Digit'] = -1\n",
    "ONLY_LABELS"
   ]
  },
  {
   "cell_type": "code",
   "execution_count": 9,
   "metadata": {},
   "outputs": [],
   "source": [
    "TRAIN_DATA_NO_LABEL = TRAIN_DATA_W_LABELS.drop('Digit', axis=1)"
   ]
  },
  {
   "cell_type": "code",
   "execution_count": 10,
   "metadata": {},
   "outputs": [
    {
     "data": {
      "text/html": [
       "<div>\n",
       "<style scoped>\n",
       "    .dataframe tbody tr th:only-of-type {\n",
       "        vertical-align: middle;\n",
       "    }\n",
       "\n",
       "    .dataframe tbody tr th {\n",
       "        vertical-align: top;\n",
       "    }\n",
       "\n",
       "    .dataframe thead th {\n",
       "        text-align: right;\n",
       "    }\n",
       "</style>\n",
       "<table border=\"1\" class=\"dataframe\">\n",
       "  <thead>\n",
       "    <tr style=\"text-align: right;\">\n",
       "      <th></th>\n",
       "      <th>x3</th>\n",
       "      <th>y3</th>\n",
       "      <th>x4</th>\n",
       "      <th>y4</th>\n",
       "      <th>x5</th>\n",
       "      <th>y5</th>\n",
       "      <th>x6</th>\n",
       "      <th>y6</th>\n",
       "    </tr>\n",
       "  </thead>\n",
       "  <tbody>\n",
       "    <tr>\n",
       "      <th>384</th>\n",
       "      <td>0</td>\n",
       "      <td>88</td>\n",
       "      <td>8</td>\n",
       "      <td>70</td>\n",
       "      <td>15</td>\n",
       "      <td>53</td>\n",
       "      <td>15</td>\n",
       "      <td>35</td>\n",
       "    </tr>\n",
       "    <tr>\n",
       "      <th>385</th>\n",
       "      <td>75</td>\n",
       "      <td>71</td>\n",
       "      <td>58</td>\n",
       "      <td>57</td>\n",
       "      <td>58</td>\n",
       "      <td>42</td>\n",
       "      <td>33</td>\n",
       "      <td>28</td>\n",
       "    </tr>\n",
       "    <tr>\n",
       "      <th>386</th>\n",
       "      <td>0</td>\n",
       "      <td>85</td>\n",
       "      <td>0</td>\n",
       "      <td>68</td>\n",
       "      <td>13</td>\n",
       "      <td>51</td>\n",
       "      <td>20</td>\n",
       "      <td>34</td>\n",
       "    </tr>\n",
       "    <tr>\n",
       "      <th>387</th>\n",
       "      <td>80</td>\n",
       "      <td>76</td>\n",
       "      <td>65</td>\n",
       "      <td>61</td>\n",
       "      <td>50</td>\n",
       "      <td>45</td>\n",
       "      <td>40</td>\n",
       "      <td>30</td>\n",
       "    </tr>\n",
       "    <tr>\n",
       "      <th>388</th>\n",
       "      <td>57</td>\n",
       "      <td>75</td>\n",
       "      <td>36</td>\n",
       "      <td>60</td>\n",
       "      <td>14</td>\n",
       "      <td>44</td>\n",
       "      <td>0</td>\n",
       "      <td>29</td>\n",
       "    </tr>\n",
       "    <tr>\n",
       "      <th>...</th>\n",
       "      <td>...</td>\n",
       "      <td>...</td>\n",
       "      <td>...</td>\n",
       "      <td>...</td>\n",
       "      <td>...</td>\n",
       "      <td>...</td>\n",
       "      <td>...</td>\n",
       "      <td>...</td>\n",
       "    </tr>\n",
       "    <tr>\n",
       "      <th>3742</th>\n",
       "      <td>0</td>\n",
       "      <td>92</td>\n",
       "      <td>23</td>\n",
       "      <td>66</td>\n",
       "      <td>90</td>\n",
       "      <td>74</td>\n",
       "      <td>100</td>\n",
       "      <td>53</td>\n",
       "    </tr>\n",
       "    <tr>\n",
       "      <th>3743</th>\n",
       "      <td>43</td>\n",
       "      <td>65</td>\n",
       "      <td>100</td>\n",
       "      <td>84</td>\n",
       "      <td>95</td>\n",
       "      <td>79</td>\n",
       "      <td>92</td>\n",
       "      <td>38</td>\n",
       "    </tr>\n",
       "    <tr>\n",
       "      <th>3744</th>\n",
       "      <td>25</td>\n",
       "      <td>76</td>\n",
       "      <td>79</td>\n",
       "      <td>68</td>\n",
       "      <td>100</td>\n",
       "      <td>62</td>\n",
       "      <td>97</td>\n",
       "      <td>23</td>\n",
       "    </tr>\n",
       "    <tr>\n",
       "      <th>3745</th>\n",
       "      <td>45</td>\n",
       "      <td>90</td>\n",
       "      <td>44</td>\n",
       "      <td>65</td>\n",
       "      <td>100</td>\n",
       "      <td>66</td>\n",
       "      <td>92</td>\n",
       "      <td>35</td>\n",
       "    </tr>\n",
       "    <tr>\n",
       "      <th>3746</th>\n",
       "      <td>0</td>\n",
       "      <td>85</td>\n",
       "      <td>13</td>\n",
       "      <td>56</td>\n",
       "      <td>84</td>\n",
       "      <td>67</td>\n",
       "      <td>100</td>\n",
       "      <td>68</td>\n",
       "    </tr>\n",
       "  </tbody>\n",
       "</table>\n",
       "<p>747 rows × 8 columns</p>\n",
       "</div>"
      ],
      "text/plain": [
       "      x3  y3   x4  y4   x5  y5   x6  y6\n",
       "384    0  88    8  70   15  53   15  35\n",
       "385   75  71   58  57   58  42   33  28\n",
       "386    0  85    0  68   13  51   20  34\n",
       "387   80  76   65  61   50  45   40  30\n",
       "388   57  75   36  60   14  44    0  29\n",
       "...   ..  ..  ...  ..  ...  ..  ...  ..\n",
       "3742   0  92   23  66   90  74  100  53\n",
       "3743  43  65  100  84   95  79   92  38\n",
       "3744  25  76   79  68  100  62   97  23\n",
       "3745  45  90   44  65  100  66   92  35\n",
       "3746   0  85   13  56   84  67  100  68\n",
       "\n",
       "[747 rows x 8 columns]"
      ]
     },
     "execution_count": 10,
     "metadata": {},
     "output_type": "execute_result"
    }
   ],
   "source": [
    "TRAIN_DATA_NO_LABEL"
   ]
  },
  {
   "cell_type": "code",
   "execution_count": 11,
   "metadata": {},
   "outputs": [],
   "source": [
    "# X_train, X_validate, y_train, y_validate = train_test_split( \n",
    "#     TRAIN_DATA_NO_LABEL, ONLY_LABELS, test_size=0.2, shuffle=True)"
   ]
  },
  {
   "cell_type": "code",
   "execution_count": 12,
   "metadata": {},
   "outputs": [],
   "source": [
    "X_train=TRAIN_DATA_NO_LABEL.to_numpy()"
   ]
  },
  {
   "cell_type": "code",
   "execution_count": 13,
   "metadata": {},
   "outputs": [],
   "source": [
    "y_train=ONLY_LABELS.to_numpy()"
   ]
  },
  {
   "cell_type": "code",
   "execution_count": 14,
   "metadata": {},
   "outputs": [
    {
     "ename": "NameError",
     "evalue": "name 'y_validate' is not defined",
     "output_type": "error",
     "traceback": [
      "\u001b[0;31m---------------------------------------------------------------------------\u001b[0m",
      "\u001b[0;31mNameError\u001b[0m                                 Traceback (most recent call last)",
      "\u001b[1;32m/mnt/data0/haskari/ML/Assignment3/Hadi/soft_margin_svm_1vs9.ipynb Cell 14'\u001b[0m in \u001b[0;36m<cell line: 1>\u001b[0;34m()\u001b[0m\n\u001b[0;32m----> <a href='vscode-notebook-cell://ssh-remote%2Bsohrab.idav.ucdavis.edu/mnt/data0/haskari/ML/Assignment3/Hadi/soft_margin_svm_1vs9.ipynb#ch0000013vscode-remote?line=0'>1</a>\u001b[0m y_validate\n",
      "\u001b[0;31mNameError\u001b[0m: name 'y_validate' is not defined"
     ]
    }
   ],
   "source": [
    "y_validate"
   ]
  },
  {
   "cell_type": "code",
   "execution_count": 15,
   "metadata": {},
   "outputs": [
    {
     "ename": "NameError",
     "evalue": "name 'X_validate' is not defined",
     "output_type": "error",
     "traceback": [
      "\u001b[0;31m---------------------------------------------------------------------------\u001b[0m",
      "\u001b[0;31mNameError\u001b[0m                                 Traceback (most recent call last)",
      "\u001b[1;32m/mnt/data0/haskari/ML/Assignment3/Hadi/soft_margin_svm_1vs9.ipynb Cell 15'\u001b[0m in \u001b[0;36m<cell line: 1>\u001b[0;34m()\u001b[0m\n\u001b[0;32m----> <a href='vscode-notebook-cell://ssh-remote%2Bsohrab.idav.ucdavis.edu/mnt/data0/haskari/ML/Assignment3/Hadi/soft_margin_svm_1vs9.ipynb#ch0000014vscode-remote?line=0'>1</a>\u001b[0m X_validate\n",
      "\u001b[0;31mNameError\u001b[0m: name 'X_validate' is not defined"
     ]
    }
   ],
   "source": [
    "X_validate"
   ]
  },
  {
   "cell_type": "code",
   "execution_count": 16,
   "metadata": {},
   "outputs": [
    {
     "data": {
      "text/plain": [
       "(747, 8)"
      ]
     },
     "execution_count": 16,
     "metadata": {},
     "output_type": "execute_result"
    }
   ],
   "source": [
    "X_train_np = X_train\n",
    "X_train_np.shape"
   ]
  },
  {
   "cell_type": "code",
   "execution_count": 17,
   "metadata": {},
   "outputs": [
    {
     "data": {
      "text/plain": [
       "(747, 1)"
      ]
     },
     "execution_count": 17,
     "metadata": {},
     "output_type": "execute_result"
    }
   ],
   "source": [
    "y_train_np = y_train\n",
    "y_train_np.shape"
   ]
  },
  {
   "cell_type": "code",
   "execution_count": 18,
   "metadata": {},
   "outputs": [],
   "source": [
    "train_data_qty = len(X_train_np)"
   ]
  },
  {
   "cell_type": "code",
   "execution_count": 19,
   "metadata": {},
   "outputs": [],
   "source": [
    "C = 2 "
   ]
  },
  {
   "cell_type": "code",
   "execution_count": 20,
   "metadata": {},
   "outputs": [],
   "source": [
    "w = cp.Variable((D, 1))"
   ]
  },
  {
   "cell_type": "code",
   "execution_count": 21,
   "metadata": {},
   "outputs": [],
   "source": [
    "b = cp.Variable()"
   ]
  },
  {
   "cell_type": "code",
   "execution_count": 22,
   "metadata": {},
   "outputs": [],
   "source": [
    "epsilon = cp.Variable((train_data_qty, 1))"
   ]
  },
  {
   "cell_type": "code",
   "execution_count": 23,
   "metadata": {},
   "outputs": [],
   "source": [
    "objective = cp.Minimize(cp.sum(cp.square(w))*0.5 + cp.sum(cp.square(epsilon)*C))"
   ]
  },
  {
   "cell_type": "code",
   "execution_count": 24,
   "metadata": {},
   "outputs": [],
   "source": [
    "constraints = [cp.multiply(y_train_np, (X_train_np @ w + b)) >= 1 - epsilon,  epsilon >= 0]"
   ]
  },
  {
   "cell_type": "code",
   "execution_count": 25,
   "metadata": {},
   "outputs": [
    {
     "name": "stdout",
     "output_type": "stream",
     "text": [
      "status: optimal\n",
      "optimal value 491.5830709514776\n",
      "optimal var w = [[ 0.00282481]\n",
      " [ 0.02713111]\n",
      " [ 0.01992298]\n",
      " [ 0.00748893]\n",
      " [ 0.00798928]\n",
      " [-0.02384728]\n",
      " [-0.02514261]\n",
      " [ 0.01460923]], b = -2.308137420124083\n"
     ]
    }
   ],
   "source": [
    "prob = cp.Problem(objective, constraints)\n",
    "prob.solve()\n",
    "print(\"status:\", prob.status)\n",
    "print(\"optimal value\", prob.value)\n",
    "print(\"optimal var w = {}, b = {}\".format(w.value, b.value))"
   ]
  },
  {
   "cell_type": "code",
   "execution_count": 41,
   "metadata": {},
   "outputs": [],
   "source": [
    "eps = 1e-2 # select support vectors\n",
    "random.seed(1) # For reproducibility"
   ]
  },
  {
   "cell_type": "code",
   "execution_count": 42,
   "metadata": {},
   "outputs": [],
   "source": [
    "sup = y_train_np*(X_train_np.dot(w.value)+b.value)-1 #0.01"
   ]
  },
  {
   "cell_type": "code",
   "execution_count": 43,
   "metadata": {},
   "outputs": [
    {
     "data": {
      "text/plain": [
       "747"
      ]
     },
     "execution_count": 43,
     "metadata": {},
     "output_type": "execute_result"
    }
   ],
   "source": [
    "len(sup)"
   ]
  },
  {
   "cell_type": "code",
   "execution_count": 44,
   "metadata": {},
   "outputs": [],
   "source": [
    "sup_v1 = ((-eps<sup) & (sup<eps)).flatten()"
   ]
  },
  {
   "cell_type": "code",
   "execution_count": 45,
   "metadata": {},
   "outputs": [
    {
     "data": {
      "text/plain": [
       "747"
      ]
     },
     "execution_count": 45,
     "metadata": {},
     "output_type": "execute_result"
    }
   ],
   "source": [
    "len(sup_v1)"
   ]
  },
  {
   "cell_type": "code",
   "execution_count": 46,
   "metadata": {},
   "outputs": [
    {
     "data": {
      "text/plain": [
       "Counter({False: 736, True: 11})"
      ]
     },
     "execution_count": 46,
     "metadata": {},
     "output_type": "execute_result"
    }
   ],
   "source": [
    "import collections\n",
    "\n",
    "collections.Counter(sup_v1)"
   ]
  },
  {
   "cell_type": "code",
   "execution_count": 122,
   "metadata": {},
   "outputs": [
    {
     "name": "stdout",
     "output_type": "stream",
     "text": [
      "[False False False False False False False False False False False False\n",
      " False False False False False False False False False False False False\n",
      " False False False False False False False False False False False False\n",
      " False False False False False False False False False False False False\n",
      " False False False False False False False False False False False False\n",
      " False False False False False False False False False False False False\n",
      " False False False False False False False False False False False False\n",
      " False False False False False False False False False False False False\n",
      " False False False False False False False False False False False False\n",
      " False False False False False False False False False False False False\n",
      " False False False False False False False False False False False False\n",
      " False False False False False False False False False False False False\n",
      " False False False False False False False False False False False False\n",
      " False False False False False False False False False False False False\n",
      " False False False False False False False False False False False False\n",
      " False False False False False False False False False False False False\n",
      " False False False False False False False False False False False False\n",
      " False False False False False False False False False False False False\n",
      " False False False False False False False False False False False False\n",
      " False False False False False False False False False False False False\n",
      " False False False False False False False False False False False False\n",
      " False  True False False False False False False False False False False\n",
      "  True False False False False False False False False False False False\n",
      " False False False  True False False False False False False False False\n",
      " False False False False False False False False False False False False\n",
      " False False False False False False False False False False False False\n",
      " False False False False False False False False False False False False\n",
      " False False False False False False False False False False False False\n",
      " False False False False False False False False False False False False\n",
      " False False False False False False False False False False False False\n",
      " False False False False False False False False False False False False\n",
      " False False False False False False False False False False False False\n",
      " False False False False False False False False False False False False\n",
      " False False False False False False False False False False False False\n",
      " False False False False False False False False False False False False\n",
      " False False False False False False False False False False False False\n",
      " False False False False False False  True False False False False False\n",
      " False False False False False False False False False False False False\n",
      " False False False False False False False False False False False False\n",
      " False False False False False False False False False False False False\n",
      " False False False  True False False False False False  True False False\n",
      " False False False False False False False False False False False False\n",
      " False False False False False False False False False False False False\n",
      " False False False False False False False False False False False False\n",
      " False False False False False False False False False False False False\n",
      " False False False False False False False False False False False False\n",
      " False False False False False False False False  True False False False\n",
      " False False False False False False False False False False False False\n",
      " False False False False False  True False False False False False False\n",
      " False False  True False False False False False False False False False\n",
      " False False False False False False False False False False False False\n",
      " False False False False False False False False False False False False\n",
      " False False False False False False False False False False False False\n",
      " False False False False False False False False False False False False\n",
      " False False False False False False False False False False False False\n",
      " False False False False False False False False False False False False\n",
      " False False False False False False False False  True False False False\n",
      " False False False False False False False False False False False False\n",
      " False False False False False False False False False False False False\n",
      " False False False False False False False False False False False False\n",
      " False False False False False False False False False False False False\n",
      " False False False False False False False False  True False False False\n",
      " False False False]\n"
     ]
    }
   ],
   "source": [
    "print(sup_v1)"
   ]
  },
  {
   "cell_type": "code",
   "execution_count": 123,
   "metadata": {},
   "outputs": [],
   "source": [
    "df=pd.DataFrame(sup_v1)"
   ]
  },
  {
   "cell_type": "code",
   "execution_count": 124,
   "metadata": {},
   "outputs": [],
   "source": [
    "TRAIN_DATA_W_LABELS.reset_index(drop=True, inplace=True)\n"
   ]
  },
  {
   "cell_type": "code",
   "execution_count": 125,
   "metadata": {},
   "outputs": [
    {
     "data": {
      "text/html": [
       "<div>\n",
       "<style scoped>\n",
       "    .dataframe tbody tr th:only-of-type {\n",
       "        vertical-align: middle;\n",
       "    }\n",
       "\n",
       "    .dataframe tbody tr th {\n",
       "        vertical-align: top;\n",
       "    }\n",
       "\n",
       "    .dataframe thead th {\n",
       "        text-align: right;\n",
       "    }\n",
       "</style>\n",
       "<table border=\"1\" class=\"dataframe\">\n",
       "  <thead>\n",
       "    <tr style=\"text-align: right;\">\n",
       "      <th></th>\n",
       "      <th>x3</th>\n",
       "      <th>y3</th>\n",
       "      <th>x4</th>\n",
       "      <th>y4</th>\n",
       "      <th>x5</th>\n",
       "      <th>y5</th>\n",
       "      <th>x6</th>\n",
       "      <th>y6</th>\n",
       "      <th>Digit</th>\n",
       "    </tr>\n",
       "  </thead>\n",
       "  <tbody>\n",
       "    <tr>\n",
       "      <th>0</th>\n",
       "      <td>0</td>\n",
       "      <td>88</td>\n",
       "      <td>8</td>\n",
       "      <td>70</td>\n",
       "      <td>15</td>\n",
       "      <td>53</td>\n",
       "      <td>15</td>\n",
       "      <td>35</td>\n",
       "      <td>1</td>\n",
       "    </tr>\n",
       "    <tr>\n",
       "      <th>1</th>\n",
       "      <td>75</td>\n",
       "      <td>71</td>\n",
       "      <td>58</td>\n",
       "      <td>57</td>\n",
       "      <td>58</td>\n",
       "      <td>42</td>\n",
       "      <td>33</td>\n",
       "      <td>28</td>\n",
       "      <td>1</td>\n",
       "    </tr>\n",
       "    <tr>\n",
       "      <th>2</th>\n",
       "      <td>0</td>\n",
       "      <td>85</td>\n",
       "      <td>0</td>\n",
       "      <td>68</td>\n",
       "      <td>13</td>\n",
       "      <td>51</td>\n",
       "      <td>20</td>\n",
       "      <td>34</td>\n",
       "      <td>1</td>\n",
       "    </tr>\n",
       "    <tr>\n",
       "      <th>3</th>\n",
       "      <td>80</td>\n",
       "      <td>76</td>\n",
       "      <td>65</td>\n",
       "      <td>61</td>\n",
       "      <td>50</td>\n",
       "      <td>45</td>\n",
       "      <td>40</td>\n",
       "      <td>30</td>\n",
       "      <td>1</td>\n",
       "    </tr>\n",
       "    <tr>\n",
       "      <th>4</th>\n",
       "      <td>57</td>\n",
       "      <td>75</td>\n",
       "      <td>36</td>\n",
       "      <td>60</td>\n",
       "      <td>14</td>\n",
       "      <td>44</td>\n",
       "      <td>0</td>\n",
       "      <td>29</td>\n",
       "      <td>1</td>\n",
       "    </tr>\n",
       "    <tr>\n",
       "      <th>...</th>\n",
       "      <td>...</td>\n",
       "      <td>...</td>\n",
       "      <td>...</td>\n",
       "      <td>...</td>\n",
       "      <td>...</td>\n",
       "      <td>...</td>\n",
       "      <td>...</td>\n",
       "      <td>...</td>\n",
       "      <td>...</td>\n",
       "    </tr>\n",
       "    <tr>\n",
       "      <th>742</th>\n",
       "      <td>0</td>\n",
       "      <td>92</td>\n",
       "      <td>23</td>\n",
       "      <td>66</td>\n",
       "      <td>90</td>\n",
       "      <td>74</td>\n",
       "      <td>100</td>\n",
       "      <td>53</td>\n",
       "      <td>9</td>\n",
       "    </tr>\n",
       "    <tr>\n",
       "      <th>743</th>\n",
       "      <td>43</td>\n",
       "      <td>65</td>\n",
       "      <td>100</td>\n",
       "      <td>84</td>\n",
       "      <td>95</td>\n",
       "      <td>79</td>\n",
       "      <td>92</td>\n",
       "      <td>38</td>\n",
       "      <td>9</td>\n",
       "    </tr>\n",
       "    <tr>\n",
       "      <th>744</th>\n",
       "      <td>25</td>\n",
       "      <td>76</td>\n",
       "      <td>79</td>\n",
       "      <td>68</td>\n",
       "      <td>100</td>\n",
       "      <td>62</td>\n",
       "      <td>97</td>\n",
       "      <td>23</td>\n",
       "      <td>9</td>\n",
       "    </tr>\n",
       "    <tr>\n",
       "      <th>745</th>\n",
       "      <td>45</td>\n",
       "      <td>90</td>\n",
       "      <td>44</td>\n",
       "      <td>65</td>\n",
       "      <td>100</td>\n",
       "      <td>66</td>\n",
       "      <td>92</td>\n",
       "      <td>35</td>\n",
       "      <td>9</td>\n",
       "    </tr>\n",
       "    <tr>\n",
       "      <th>746</th>\n",
       "      <td>0</td>\n",
       "      <td>85</td>\n",
       "      <td>13</td>\n",
       "      <td>56</td>\n",
       "      <td>84</td>\n",
       "      <td>67</td>\n",
       "      <td>100</td>\n",
       "      <td>68</td>\n",
       "      <td>9</td>\n",
       "    </tr>\n",
       "  </tbody>\n",
       "</table>\n",
       "<p>747 rows × 9 columns</p>\n",
       "</div>"
      ],
      "text/plain": [
       "     x3  y3   x4  y4   x5  y5   x6  y6  Digit\n",
       "0     0  88    8  70   15  53   15  35      1\n",
       "1    75  71   58  57   58  42   33  28      1\n",
       "2     0  85    0  68   13  51   20  34      1\n",
       "3    80  76   65  61   50  45   40  30      1\n",
       "4    57  75   36  60   14  44    0  29      1\n",
       "..   ..  ..  ...  ..  ...  ..  ...  ..    ...\n",
       "742   0  92   23  66   90  74  100  53      9\n",
       "743  43  65  100  84   95  79   92  38      9\n",
       "744  25  76   79  68  100  62   97  23      9\n",
       "745  45  90   44  65  100  66   92  35      9\n",
       "746   0  85   13  56   84  67  100  68      9\n",
       "\n",
       "[747 rows x 9 columns]"
      ]
     },
     "execution_count": 125,
     "metadata": {},
     "output_type": "execute_result"
    }
   ],
   "source": [
    "TRAIN_DATA_W_LABELS"
   ]
  },
  {
   "cell_type": "code",
   "execution_count": 126,
   "metadata": {},
   "outputs": [],
   "source": [
    "df.reset_index(drop=True, inplace=True)"
   ]
  },
  {
   "cell_type": "code",
   "execution_count": 127,
   "metadata": {},
   "outputs": [
    {
     "data": {
      "text/plain": [
       "<bound method NDFrame.head of          0\n",
       "0    False\n",
       "1    False\n",
       "2    False\n",
       "3    False\n",
       "4    False\n",
       "..     ...\n",
       "742  False\n",
       "743  False\n",
       "744  False\n",
       "745  False\n",
       "746  False\n",
       "\n",
       "[747 rows x 1 columns]>"
      ]
     },
     "execution_count": 127,
     "metadata": {},
     "output_type": "execute_result"
    }
   ],
   "source": [
    "df.head"
   ]
  },
  {
   "cell_type": "code",
   "execution_count": 128,
   "metadata": {},
   "outputs": [
    {
     "name": "stderr",
     "output_type": "stream",
     "text": [
      "/tmp/ipykernel_832056/324631880.py:1: SettingWithCopyWarning: \n",
      "A value is trying to be set on a copy of a slice from a DataFrame.\n",
      "Try using .loc[row_indexer,col_indexer] = value instead\n",
      "\n",
      "See the caveats in the documentation: https://pandas.pydata.org/pandas-docs/stable/user_guide/indexing.html#returning-a-view-versus-a-copy\n",
      "  TRAIN_DATA_W_LABELS['sup_vec_bool']=df\n"
     ]
    }
   ],
   "source": [
    "TRAIN_DATA_W_LABELS['sup_vec_bool']=df"
   ]
  },
  {
   "cell_type": "code",
   "execution_count": 129,
   "metadata": {},
   "outputs": [
    {
     "data": {
      "text/plain": [
       "<bound method NDFrame.head of      x3  y3   x4  y4   x5  y5   x6  y6  Digit  sup_vec_bool\n",
       "0     0  88    8  70   15  53   15  35      1         False\n",
       "1    75  71   58  57   58  42   33  28      1         False\n",
       "2     0  85    0  68   13  51   20  34      1         False\n",
       "3    80  76   65  61   50  45   40  30      1         False\n",
       "4    57  75   36  60   14  44    0  29      1         False\n",
       "..   ..  ..  ...  ..  ...  ..  ...  ..    ...           ...\n",
       "742   0  92   23  66   90  74  100  53      9         False\n",
       "743  43  65  100  84   95  79   92  38      9         False\n",
       "744  25  76   79  68  100  62   97  23      9         False\n",
       "745  45  90   44  65  100  66   92  35      9         False\n",
       "746   0  85   13  56   84  67  100  68      9         False\n",
       "\n",
       "[747 rows x 10 columns]>"
      ]
     },
     "execution_count": 129,
     "metadata": {},
     "output_type": "execute_result"
    }
   ],
   "source": [
    "TRAIN_DATA_W_LABELS.head"
   ]
  },
  {
   "cell_type": "code",
   "execution_count": 130,
   "metadata": {},
   "outputs": [
    {
     "name": "stdout",
     "output_type": "stream",
     "text": [
      "     x3  y3   x4  y4   x5  y5   x6  y6  Digit  sup_vec_bool\n",
      "0     0  88    8  70   15  53   15  35      1         False\n",
      "1    75  71   58  57   58  42   33  28      1         False\n",
      "2     0  85    0  68   13  51   20  34      1         False\n",
      "3    80  76   65  61   50  45   40  30      1         False\n",
      "4    57  75   36  60   14  44    0  29      1         False\n",
      "..   ..  ..  ...  ..  ...  ..  ...  ..    ...           ...\n",
      "742   0  92   23  66   90  74  100  53      9         False\n",
      "743  43  65  100  84   95  79   92  38      9         False\n",
      "744  25  76   79  68  100  62   97  23      9         False\n",
      "745  45  90   44  65  100  66   92  35      9         False\n",
      "746   0  85   13  56   84  67  100  68      9         False\n",
      "\n",
      "[747 rows x 10 columns]\n"
     ]
    }
   ],
   "source": [
    "print(TRAIN_DATA_W_LABELS)"
   ]
  },
  {
   "cell_type": "code",
   "execution_count": 131,
   "metadata": {},
   "outputs": [],
   "source": [
    "TRAIN_DATA_W_LABELS.loc[TRAIN_DATA_W_LABELS['Digit'] == 9, 'Digit'] = -1"
   ]
  },
  {
   "cell_type": "code",
   "execution_count": 156,
   "metadata": {},
   "outputs": [],
   "source": [
    "sup_vec_df=TRAIN_DATA_W_LABELS[TRAIN_DATA_W_LABELS['sup_vec_bool']==True]"
   ]
  },
  {
   "cell_type": "code",
   "execution_count": 157,
   "metadata": {},
   "outputs": [
    {
     "data": {
      "text/html": [
       "<div>\n",
       "<style scoped>\n",
       "    .dataframe tbody tr th:only-of-type {\n",
       "        vertical-align: middle;\n",
       "    }\n",
       "\n",
       "    .dataframe tbody tr th {\n",
       "        vertical-align: top;\n",
       "    }\n",
       "\n",
       "    .dataframe thead th {\n",
       "        text-align: right;\n",
       "    }\n",
       "</style>\n",
       "<table border=\"1\" class=\"dataframe\">\n",
       "  <thead>\n",
       "    <tr style=\"text-align: right;\">\n",
       "      <th></th>\n",
       "      <th>x3</th>\n",
       "      <th>y3</th>\n",
       "      <th>x4</th>\n",
       "      <th>y4</th>\n",
       "      <th>x5</th>\n",
       "      <th>y5</th>\n",
       "      <th>x6</th>\n",
       "      <th>y6</th>\n",
       "      <th>Digit</th>\n",
       "      <th>sup_vec_bool</th>\n",
       "    </tr>\n",
       "  </thead>\n",
       "  <tbody>\n",
       "    <tr>\n",
       "      <th>253</th>\n",
       "      <td>66</td>\n",
       "      <td>82</td>\n",
       "      <td>100</td>\n",
       "      <td>100</td>\n",
       "      <td>77</td>\n",
       "      <td>76</td>\n",
       "      <td>55</td>\n",
       "      <td>51</td>\n",
       "      <td>1</td>\n",
       "      <td>True</td>\n",
       "    </tr>\n",
       "    <tr>\n",
       "      <th>264</th>\n",
       "      <td>55</td>\n",
       "      <td>84</td>\n",
       "      <td>100</td>\n",
       "      <td>100</td>\n",
       "      <td>73</td>\n",
       "      <td>75</td>\n",
       "      <td>55</td>\n",
       "      <td>50</td>\n",
       "      <td>1</td>\n",
       "      <td>True</td>\n",
       "    </tr>\n",
       "    <tr>\n",
       "      <th>279</th>\n",
       "      <td>59</td>\n",
       "      <td>76</td>\n",
       "      <td>100</td>\n",
       "      <td>100</td>\n",
       "      <td>67</td>\n",
       "      <td>77</td>\n",
       "      <td>44</td>\n",
       "      <td>51</td>\n",
       "      <td>1</td>\n",
       "      <td>True</td>\n",
       "    </tr>\n",
       "    <tr>\n",
       "      <th>438</th>\n",
       "      <td>0</td>\n",
       "      <td>83</td>\n",
       "      <td>52</td>\n",
       "      <td>100</td>\n",
       "      <td>98</td>\n",
       "      <td>80</td>\n",
       "      <td>92</td>\n",
       "      <td>49</td>\n",
       "      <td>-1</td>\n",
       "      <td>True</td>\n",
       "    </tr>\n",
       "    <tr>\n",
       "      <th>483</th>\n",
       "      <td>78</td>\n",
       "      <td>98</td>\n",
       "      <td>23</td>\n",
       "      <td>100</td>\n",
       "      <td>32</td>\n",
       "      <td>70</td>\n",
       "      <td>99</td>\n",
       "      <td>77</td>\n",
       "      <td>-1</td>\n",
       "      <td>True</td>\n",
       "    </tr>\n",
       "    <tr>\n",
       "      <th>489</th>\n",
       "      <td>62</td>\n",
       "      <td>100</td>\n",
       "      <td>43</td>\n",
       "      <td>78</td>\n",
       "      <td>91</td>\n",
       "      <td>70</td>\n",
       "      <td>100</td>\n",
       "      <td>30</td>\n",
       "      <td>-1</td>\n",
       "      <td>True</td>\n",
       "    </tr>\n",
       "    <tr>\n",
       "      <th>560</th>\n",
       "      <td>94</td>\n",
       "      <td>98</td>\n",
       "      <td>42</td>\n",
       "      <td>79</td>\n",
       "      <td>96</td>\n",
       "      <td>79</td>\n",
       "      <td>100</td>\n",
       "      <td>40</td>\n",
       "      <td>-1</td>\n",
       "      <td>True</td>\n",
       "    </tr>\n",
       "    <tr>\n",
       "      <th>581</th>\n",
       "      <td>39</td>\n",
       "      <td>80</td>\n",
       "      <td>64</td>\n",
       "      <td>95</td>\n",
       "      <td>78</td>\n",
       "      <td>58</td>\n",
       "      <td>100</td>\n",
       "      <td>22</td>\n",
       "      <td>-1</td>\n",
       "      <td>True</td>\n",
       "    </tr>\n",
       "    <tr>\n",
       "      <th>590</th>\n",
       "      <td>65</td>\n",
       "      <td>100</td>\n",
       "      <td>3</td>\n",
       "      <td>84</td>\n",
       "      <td>0</td>\n",
       "      <td>52</td>\n",
       "      <td>70</td>\n",
       "      <td>49</td>\n",
       "      <td>-1</td>\n",
       "      <td>True</td>\n",
       "    </tr>\n",
       "    <tr>\n",
       "      <th>680</th>\n",
       "      <td>0</td>\n",
       "      <td>87</td>\n",
       "      <td>58</td>\n",
       "      <td>100</td>\n",
       "      <td>87</td>\n",
       "      <td>67</td>\n",
       "      <td>100</td>\n",
       "      <td>31</td>\n",
       "      <td>-1</td>\n",
       "      <td>True</td>\n",
       "    </tr>\n",
       "    <tr>\n",
       "      <th>740</th>\n",
       "      <td>33</td>\n",
       "      <td>86</td>\n",
       "      <td>46</td>\n",
       "      <td>65</td>\n",
       "      <td>100</td>\n",
       "      <td>73</td>\n",
       "      <td>84</td>\n",
       "      <td>37</td>\n",
       "      <td>-1</td>\n",
       "      <td>True</td>\n",
       "    </tr>\n",
       "  </tbody>\n",
       "</table>\n",
       "</div>"
      ],
      "text/plain": [
       "     x3   y3   x4   y4   x5  y5   x6  y6  Digit  sup_vec_bool\n",
       "253  66   82  100  100   77  76   55  51      1          True\n",
       "264  55   84  100  100   73  75   55  50      1          True\n",
       "279  59   76  100  100   67  77   44  51      1          True\n",
       "438   0   83   52  100   98  80   92  49     -1          True\n",
       "483  78   98   23  100   32  70   99  77     -1          True\n",
       "489  62  100   43   78   91  70  100  30     -1          True\n",
       "560  94   98   42   79   96  79  100  40     -1          True\n",
       "581  39   80   64   95   78  58  100  22     -1          True\n",
       "590  65  100    3   84    0  52   70  49     -1          True\n",
       "680   0   87   58  100   87  67  100  31     -1          True\n",
       "740  33   86   46   65  100  73   84  37     -1          True"
      ]
     },
     "execution_count": 157,
     "metadata": {},
     "output_type": "execute_result"
    }
   ],
   "source": [
    "sup_vec_df"
   ]
  },
  {
   "cell_type": "code",
   "execution_count": 137,
   "metadata": {},
   "outputs": [
    {
     "data": {
      "text/plain": [
       "array([ 1,  1,  1, -1, -1, -1, -1, -1, -1, -1, -1])"
      ]
     },
     "execution_count": 137,
     "metadata": {},
     "output_type": "execute_result"
    }
   ],
   "source": [
    "sup_vec_bool=sup_vec_df['Digit']\n",
    "sup_vec_bool_np=sup_vec_bool.values\n",
    "sup_vec_bool_np"
   ]
  },
  {
   "cell_type": "code",
   "execution_count": 158,
   "metadata": {},
   "outputs": [
    {
     "data": {
      "text/plain": [
       "array([[ 66,  82, 100, 100,  77,  76,  55,  51],\n",
       "       [ 55,  84, 100, 100,  73,  75,  55,  50],\n",
       "       [ 59,  76, 100, 100,  67,  77,  44,  51],\n",
       "       [  0,  83,  52, 100,  98,  80,  92,  49],\n",
       "       [ 78,  98,  23, 100,  32,  70,  99,  77],\n",
       "       [ 62, 100,  43,  78,  91,  70, 100,  30],\n",
       "       [ 94,  98,  42,  79,  96,  79, 100,  40],\n",
       "       [ 39,  80,  64,  95,  78,  58, 100,  22],\n",
       "       [ 65, 100,   3,  84,   0,  52,  70,  49],\n",
       "       [  0,  87,  58, 100,  87,  67, 100,  31],\n",
       "       [ 33,  86,  46,  65, 100,  73,  84,  37]])"
      ]
     },
     "execution_count": 158,
     "metadata": {},
     "output_type": "execute_result"
    }
   ],
   "source": [
    "sup_vec_df=sup_vec_df.drop('sup_vec_bool', axis=1)\n",
    "sup_vec_df=sup_vec_df.drop('Digit', axis=1)\n",
    "sup_vec_np2=sup_vec_df.values\n",
    "sup_vec_np2"
   ]
  },
  {
   "cell_type": "code",
   "execution_count": null,
   "metadata": {},
   "outputs": [
    {
     "data": {
      "text/plain": [
       "array([[ 98,  64,  69, 100,  58,  69, 100,  61],\n",
       "       [ 71,  91, 100, 100,  82,  74,  68,  48],\n",
       "       [ 66,  82, 100, 100,  77,  76,  55,  51],\n",
       "       [ 96, 100, 100,  84,  94,  60,  88,  35],\n",
       "       [100, 100,  89,  75,  79,  49,  76,  24]])"
      ]
     },
     "execution_count": 180,
     "metadata": {},
     "output_type": "execute_result"
    }
   ],
   "source": [
    "sup_vec_np = sup_vec_df.values\n",
    "sup_vec_np"
   ]
  },
  {
   "cell_type": "code",
   "execution_count": null,
   "metadata": {},
   "outputs": [],
   "source": [
    "sup_vecs_from_1vs9 = [[ 98,  64,  69, 100,  58,  69, 100,  61],\n",
    "       [ 71,  91, 100, 100,  82,  74,  68,  48],\n",
    "       [ 66,  82, 100, 100,  77,  76,  55,  51],\n",
    "       [ 96, 100, 100,  84,  94,  60,  88,  35],\n",
    "       [100, 100,  89,  75,  79,  49,  76,  24]]"
   ]
  },
  {
   "cell_type": "code",
   "execution_count": null,
   "metadata": {},
   "outputs": [
    {
     "data": {
      "text/plain": [
       "[[98, 64, 69, 100, 58, 69, 100, 61],\n",
       " [71, 91, 100, 100, 82, 74, 68, 48],\n",
       " [66, 82, 100, 100, 77, 76, 55, 51],\n",
       " [96, 100, 100, 84, 94, 60, 88, 35],\n",
       " [100, 100, 89, 75, 79, 49, 76, 24]]"
      ]
     },
     "execution_count": 184,
     "metadata": {},
     "output_type": "execute_result"
    }
   ],
   "source": [
    "sup_vecs_from_1vs9"
   ]
  },
  {
   "cell_type": "code",
   "execution_count": null,
   "metadata": {},
   "outputs": [
    {
     "name": "stderr",
     "output_type": "stream",
     "text": [
      "/usr/local/lib/python3.7/site-packages/ipykernel_launcher.py:1: SettingWithCopyWarning: \n",
      "A value is trying to be set on a copy of a slice from a DataFrame.\n",
      "Try using .loc[row_indexer,col_indexer] = value instead\n",
      "\n",
      "See the caveats in the documentation: https://pandas.pydata.org/pandas-docs/stable/user_guide/indexing.html#returning-a-view-versus-a-copy\n",
      "  \"\"\"Entry point for launching an IPython kernel.\n"
     ]
    },
    {
     "data": {
      "text/plain": [
       "array([[-1],\n",
       "       [ 1],\n",
       "       [ 1],\n",
       "       [ 1],\n",
       "       [ 1]])"
      ]
     },
     "execution_count": 187,
     "metadata": {},
     "output_type": "execute_result"
    }
   ],
   "source": [
    "y_train['sup_vec_bool'] = sup_v1\n",
    "labels_for_sup_vec_df = y_train[y_train['sup_vec_bool']==True]\n",
    "labels_for_sup_vec_df = labels_for_sup_vec_df.drop('sup_vec_bool', axis=1)\n",
    "labels_for_sup_vec_np = labels_for_sup_vec_df.values\n",
    "labels_for_sup_vec_np"
   ]
  },
  {
   "cell_type": "code",
   "execution_count": null,
   "metadata": {},
   "outputs": [],
   "source": [
    "labels_for_sup_vec_1vs9 = [[-1], [ 1], [ 1], [ 1], [ 1]]"
   ]
  },
  {
   "cell_type": "code",
   "execution_count": null,
   "metadata": {},
   "outputs": [],
   "source": [
    "[[0.00330738], [0.0311968], [ 0.02214532], [ 0.01202985], [ 0.00929693], [-0.02798008], [-0.02736712], [ 0.01508687]]\n"
   ]
  }
 ],
 "metadata": {
  "kernelspec": {
   "display_name": "Python 3",
   "language": "python",
   "name": "python3"
  },
  "language_info": {
   "codemirror_mode": {
    "name": "ipython",
    "version": 3
   },
   "file_extension": ".py",
   "mimetype": "text/x-python",
   "name": "python",
   "nbconvert_exporter": "python",
   "pygments_lexer": "ipython3",
   "version": "3.9.0"
  }
 },
 "nbformat": 4,
 "nbformat_minor": 4
}
