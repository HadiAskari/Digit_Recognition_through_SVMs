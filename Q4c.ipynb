{
 "cells": [
  {
   "cell_type": "code",
   "execution_count": 1,
   "metadata": {},
   "outputs": [
    {
     "name": "stderr",
     "output_type": "stream",
     "text": [
      "/home/haskari/.conda/envs/ML/lib/python3.9/site-packages/sklearn/utils/multiclass.py:13: DeprecationWarning: Please use `spmatrix` from the `scipy.sparse` namespace, the `scipy.sparse.base` namespace is deprecated.\n",
      "  from scipy.sparse.base import spmatrix\n"
     ]
    }
   ],
   "source": [
    "import numpy as np \n",
    "import matplotlib\n",
    "import matplotlib.pyplot as plt\n",
    "import random\n",
    "import time\n",
    "import cvxpy as cp\n",
    "import pandas as pd\n",
    "from sklearn.model_selection import train_test_split\n",
    "import collections"
   ]
  },
  {
   "cell_type": "code",
   "execution_count": 3,
   "metadata": {},
   "outputs": [
    {
     "name": "stderr",
     "output_type": "stream",
     "text": [
      "/tmp/ipykernel_832013/3200448627.py:11: SettingWithCopyWarning: \n",
      "A value is trying to be set on a copy of a slice from a DataFrame\n",
      "\n",
      "See the caveats in the documentation: https://pandas.pydata.org/pandas-docs/stable/user_guide/indexing.html#returning-a-view-versus-a-copy\n",
      "  ONLY_LABELS.loc[ONLY_LABELS['Digit'] == 7, 'Digit'] = -1\n",
      "/tmp/ipykernel_832013/3200448627.py:25: SettingWithCopyWarning: \n",
      "A value is trying to be set on a copy of a slice from a DataFrame\n",
      "\n",
      "See the caveats in the documentation: https://pandas.pydata.org/pandas-docs/stable/user_guide/indexing.html#returning-a-view-versus-a-copy\n",
      "  ONLY_LABELS_TEST.loc[ONLY_LABELS_TEST['Digit'] == 7, 'Digit'] = -1\n"
     ]
    }
   ],
   "source": [
    "TRAIN_DATA = pd.read_csv('transfer_train-1.csv')\n",
    "TEST_DATA=pd.read_csv('transfer_test-1.csv')\n",
    "\n",
    "TRAIN_DATA_W_LABELS = TRAIN_DATA[(TRAIN_DATA['Digit']==1) | (TRAIN_DATA['Digit']==7)]\n",
    "\n",
    "D = 8 \n",
    "\n",
    "ONLY_LABELS = TRAIN_DATA_W_LABELS[['Digit']]\n",
    "\n",
    "\n",
    "ONLY_LABELS.loc[ONLY_LABELS['Digit'] == 7, 'Digit'] = -1\n",
    "\n",
    "\n",
    "TRAIN_DATA_NO_LABEL = TRAIN_DATA_W_LABELS.drop('Digit', axis=1)\n",
    "\n",
    "# Train_data_normalized=TRAIN_DATA_NO_LABEL.copy()\n",
    "\n",
    "# for column in Train_data_normalized.columns:\n",
    "#     Train_data_normalized[column] = (Train_data_normalized[column] - Train_data_normalized[column].min()) / (Train_data_normalized[column].max() - Train_data_normalized[column].min()) \n",
    "\n",
    "TEST_DATA_W_LABELS = TEST_DATA[(TEST_DATA['Digit']==1) | (TEST_DATA['Digit']==7)]\n",
    "\n",
    "ONLY_LABELS_TEST = TEST_DATA_W_LABELS[['Digit']]\n",
    "\n",
    "ONLY_LABELS_TEST.loc[ONLY_LABELS_TEST['Digit'] == 7, 'Digit'] = -1\n",
    "\n",
    "TEST_DATA_NO_LABEL = TEST_DATA_W_LABELS.drop('Digit', axis=1)\n",
    "\n",
    "# Test_data_normalized=TEST_DATA_NO_LABEL.copy()\n",
    "\n",
    "# for column in Test_data_normalized.columns:\n",
    "#     Test_data_normalized[column] = (Test_data_normalized[column] - Test_data_normalized[column].min()) / (Test_data_normalized[column].max() - Test_data_normalized[column].min())  "
   ]
  },
  {
   "cell_type": "code",
   "execution_count": 4,
   "metadata": {},
   "outputs": [
    {
     "name": "stdout",
     "output_type": "stream",
     "text": [
      "[[ 73  84 100 100  88  75  81  50]\n",
      " [ 48  78  41  36  21   0   0   3]\n",
      " [ 42  83  79 100 100  98  81  66]\n",
      " [ 81 100 100  95  81  70  57  45]\n",
      " [ 48  49  76  73 100 100  94  73]\n",
      " [ 90  90  90  48  76   6  55   0]\n",
      " [100  79  83  44  67   8  45   0]\n",
      " [ 65 100 100 100  66  76  47  49]\n",
      " [ 44  59  39  20  29   0   0  31]\n",
      " [ 35  51  32   0  13  13  22  32]]\n",
      "(10, 8)\n",
      "(10, 1)\n"
     ]
    }
   ],
   "source": [
    "X_train_np=TRAIN_DATA_NO_LABEL.to_numpy()\n",
    "print(X_train_np)\n",
    "print(X_train_np.shape)\n",
    "y_train_np=ONLY_LABELS.to_numpy()\n",
    "print(y_train_np.shape)\n",
    "X_test=TEST_DATA_NO_LABEL.to_numpy()\n",
    "y_test=ONLY_LABELS_TEST.to_numpy()"
   ]
  },
  {
   "cell_type": "code",
   "execution_count": 5,
   "metadata": {},
   "outputs": [
    {
     "name": "stdout",
     "output_type": "stream",
     "text": [
      "10\n"
     ]
    }
   ],
   "source": [
    "train_data_qty = len(X_train_np)\n",
    "print(train_data_qty)"
   ]
  },
  {
   "cell_type": "code",
   "execution_count": 9,
   "metadata": {},
   "outputs": [
    {
     "name": "stdout",
     "output_type": "stream",
     "text": [
      "status: optimal\n",
      "optimal value 0.07047557811658729\n",
      "optimal var w = [[-0.02827472]\n",
      " [-0.01413494]\n",
      " [-0.23735641]\n",
      " [ 0.0651211 ]\n",
      " [ 0.22420957]\n",
      " [ 0.09330395]\n",
      " [-0.05573119]\n",
      " [-0.12866736]], b = 6.52074126118702\n"
     ]
    }
   ],
   "source": [
    "C = 2\n",
    "\n",
    "w = cp.Variable((D, 1))\n",
    "\n",
    "b = cp.Variable()\n",
    "\n",
    "epsilon = cp.Variable((train_data_qty, 1))\n",
    "\n",
    "objective = cp.Minimize(cp.sum(cp.square(w))*0.5 + cp.sum(cp.square(epsilon)*C))\n",
    "\n",
    "#found support vectors from 1vs9\n",
    "sup_vecs_from_1vs9 = np.array([[ 98,  64,  69, 100,  58,  69, 100,  61],\n",
    "       [ 71,  91, 100, 100,  82,  74,  68,  48],\n",
    "       [ 66,  82, 100, 100,  77,  76,  55,  51],\n",
    "       [ 96, 100, 100,  84,  94,  60,  88,  35],\n",
    "       [100, 100,  89,  75,  79,  49,  76,  24]])\n",
    "\n",
    "#found labels of support vectors from 1vs9\n",
    "labels_for_sup_vec_1vs9 = np.array([[-1], [ 1], [ 1], [ 1], [ 1]])\n",
    "\n",
    "constraints = [cp.multiply(y_train_np, (X_train_np @ (w) + b)) >= 1 - epsilon, cp.multiply(labels_for_sup_vec_1vs9, (sup_vecs_from_1vs9 @ w + b)) >= 1,epsilon >= 0]\n",
    "\n",
    "prob = cp.Problem(objective, constraints)\n",
    "prob.solve()\n",
    "print(\"status:\", prob.status)\n",
    "print(\"optimal value\", prob.value)\n",
    "print(\"optimal var w = {}, b = {}\".format(w.value, b.value))"
   ]
  },
  {
   "cell_type": "code",
   "execution_count": 10,
   "metadata": {},
   "outputs": [
    {
     "name": "stdout",
     "output_type": "stream",
     "text": [
      "Accuracy = 78.91246684350133 %\n"
     ]
    }
   ],
   "source": [
    "Xt = X_test\n",
    "\n",
    "#Xt.shape\n",
    "\n",
    "yt = y_test\n",
    "\n",
    "#yt.shape\n",
    "\n",
    "predictions = Xt.dot(w.value) + b.value\n",
    "\n",
    "predictions[predictions<0] = -1\n",
    "\n",
    "predictions[predictions>=0] = 1\n",
    "\n",
    "count_wrong_predictions = 0\n",
    "for i in range(len(predictions)):\n",
    "    if (yt[i] != predictions[i]):\n",
    "        count_wrong_predictions+=1\n",
    "        \n",
    "#count_wrong_predictions\n",
    "\n",
    "correct_predictions = (len(predictions) - count_wrong_predictions)\n",
    "#correct_predictions\n",
    "\n",
    "accuracy = correct_predictions/len(predictions)\n",
    "\n",
    "print(\"Accuracy =\",accuracy*100,\"%\")"
   ]
  },
  {
   "cell_type": "code",
   "execution_count": null,
   "metadata": {},
   "outputs": [],
   "source": []
  },
  {
   "cell_type": "code",
   "execution_count": null,
   "metadata": {},
   "outputs": [],
   "source": []
  }
 ],
 "metadata": {
  "interpreter": {
   "hash": "f04cd1d06886cd651a83ba08a3456fa4c7154b53c382870142b18df9f99f9329"
  },
  "kernelspec": {
   "display_name": "Python 3.9.0 ('ML')",
   "language": "python",
   "name": "python3"
  },
  "language_info": {
   "codemirror_mode": {
    "name": "ipython",
    "version": 3
   },
   "file_extension": ".py",
   "mimetype": "text/x-python",
   "name": "python",
   "nbconvert_exporter": "python",
   "pygments_lexer": "ipython3",
   "version": "3.9.0"
  },
  "orig_nbformat": 4
 },
 "nbformat": 4,
 "nbformat_minor": 2
}
